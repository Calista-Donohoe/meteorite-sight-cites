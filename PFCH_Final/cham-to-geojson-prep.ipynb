{
 "cells": [
  {
   "cell_type": "code",
   "execution_count": 4,
   "metadata": {},
   "outputs": [
    {
     "name": "stdout",
     "output_type": "stream",
     "text": [
      "New CSV file has been created with latitude and longitude columns.\n"
     ]
    }
   ],
   "source": [
    "import pandas as pd\n",
    "import requests\n",
    "\n",
    "def geocode_city_state(city_state):\n",
    "    url = f\"https://nominatim.openstreetmap.org/search?format=json&q={city_state}\"\n",
    "    response = requests.get(url)\n",
    "    if response.status_code == 200:\n",
    "        data = response.json()\n",
    "        if data:\n",
    "            return data[0]['lat'], data[0]['lon']\n",
    "    return None, None\n",
    "\n",
    "# Read the original CSV file\n",
    "original_csv_file = 'cham_api_1900_1963.csv'\n",
    "data = pd.read_csv(original_csv_file)\n",
    "\n",
    "# Function to extract latitude and longitude from place\n",
    "def extract_coordinates(row):\n",
    "    place = row['place']\n",
    "    latitude, longitude = geocode_city_state(place)\n",
    "    return latitude, longitude\n",
    "\n",
    "# Apply the function to the DataFrame\n",
    "data['reclat'], data['reclong'] = zip(*data.apply(extract_coordinates, axis=1))\n",
    "\n",
    "# Save the new CSV file\n",
    "new_csv_file = 'cham_geo-dataset.csv'\n",
    "data.to_csv(new_csv_file, index=False)\n",
    "\n",
    "print(\"New CSV file has been created with latitude and longitude columns.\")\n"
   ]
  },
  {
   "cell_type": "code",
   "execution_count": 7,
   "metadata": {},
   "outputs": [
    {
     "name": "stdout",
     "output_type": "stream",
     "text": [
      "GeoJSON file has been created.\n"
     ]
    }
   ],
   "source": [
    "import pandas as pd\n",
    "import json\n",
    "\n",
    "def csv_to_geojson(csv_file):\n",
    "    data = pd.read_csv(csv_file)\n",
    "    \n",
    "    features = []\n",
    "    for _, row in data.iterrows():\n",
    "        feature = {\n",
    "            'type': 'Feature',\n",
    "            'properties': {\n",
    "                'date': row['date'],\n",
    "                'title': row['title'],\n",
    "                'id': row['id'],\n",
    "                'place': row['place'],\n",
    "            },\n",
    "            'geometry': {\n",
    "                'type': 'Point',\n",
    "                'coordinates': [row['reclong'], row['reclat']]\n",
    "            }\n",
    "        }\n",
    "        features.append(feature)\n",
    "    \n",
    "    geojson_data = {\n",
    "        'type': 'FeatureCollection',\n",
    "        'features': features\n",
    "    }\n",
    "    \n",
    "    return json.dumps(geojson_data)\n",
    "\n",
    "# Example usage:\n",
    "csv_file = 'cham_geo-dataset.csv'\n",
    "geojson = csv_to_geojson(csv_file)\n",
    "\n",
    "# Save the GeoJSON to a file\n",
    "output_geojson_file = 'cham-1900-1963.geojson'\n",
    "with open(output_geojson_file, 'w') as f:\n",
    "    f.write(geojson)\n",
    "\n",
    "print(\"GeoJSON file has been created.\")\n"
   ]
  }
 ],
 "metadata": {
  "kernelspec": {
   "display_name": "Python 3",
   "language": "python",
   "name": "python3"
  },
  "language_info": {
   "codemirror_mode": {
    "name": "ipython",
    "version": 3
   },
   "file_extension": ".py",
   "mimetype": "text/x-python",
   "name": "python",
   "nbconvert_exporter": "python",
   "pygments_lexer": "ipython3",
   "version": "3.12.1"
  }
 },
 "nbformat": 4,
 "nbformat_minor": 2
}
