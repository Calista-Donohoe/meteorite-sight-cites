{
 "cells": [
  {
   "cell_type": "code",
   "execution_count": 2,
   "metadata": {},
   "outputs": [
    {
     "name": "stdout",
     "output_type": "stream",
     "text": [
      "GeoJSON data: meteorites_data.geojson\n"
     ]
    }
   ],
   "source": [
    "import csv\n",
    "import json\n",
    "\n",
    "def create_geojson(input_file, output_file):\n",
    "    features = []\n",
    "\n",
    "    # Read data from CSV file and create GeoJSON features\n",
    "    with open(input_file, 'r', newline='', encoding='utf-8') as csvfile:\n",
    "        reader = csv.DictReader(csvfile)  # Use default delimiter (comma)\n",
    "        for row in reader:\n",
    "            # Extract necessary data from the row\n",
    "            meteorite_name = row['name']\n",
    "            mass = float(row['mass (g)'])\n",
    "            year = int(float(row['year']))  # Convert to float first to handle decimal points\n",
    "            coordinates = [float(coord) for coord in row['GeoLocation'].strip('()').split(',')]\n",
    "            # Swap longitude and latitude positions\n",
    "            coordinates = [coordinates[1], coordinates[0]]\n",
    "            state = row['State']\n",
    "            country = row['Country']\n",
    "            \n",
    "            # Create a GeoJSON feature\n",
    "            feature = {\n",
    "                \"type\": \"Feature\",\n",
    "                \"properties\": {\n",
    "                    \"Name\": meteorite_name,\n",
    "                    \"Mass (g)\": mass,\n",
    "                    \"Year\": year,\n",
    "                    \"State\": state,\n",
    "                    \"Country\": country\n",
    "                },\n",
    "                \"geometry\": {\n",
    "                    \"type\": \"Point\",\n",
    "                    \"coordinates\": coordinates\n",
    "                }\n",
    "            }\n",
    "            features.append(feature)\n",
    "\n",
    "    # Create a GeoJSON object\n",
    "    geojson_data = {\n",
    "        \"type\": \"FeatureCollection\",\n",
    "        \"features\": features\n",
    "    }\n",
    "\n",
    "    # Write the GeoJSON object to a file\n",
    "    with open(output_file, 'w') as jsonfile:\n",
    "        json.dump(geojson_data, jsonfile, indent=4)\n",
    "\n",
    "# Example usage\n",
    "input_file = 'meteorites_with_state_and_country.csv'\n",
    "output_file = 'meteorites_data.geojson'\n",
    "\n",
    "create_geojson(input_file, output_file)\n",
    "print(\"GeoJSON data:\", output_file)"
   ]
  }
 ],
 "metadata": {
  "kernelspec": {
   "display_name": "Python 3",
   "language": "python",
   "name": "python3"
  },
  "language_info": {
   "codemirror_mode": {
    "name": "ipython",
    "version": 3
   },
   "file_extension": ".py",
   "mimetype": "text/x-python",
   "name": "python",
   "nbconvert_exporter": "python",
   "pygments_lexer": "ipython3",
   "version": "3.12.1"
  }
 },
 "nbformat": 4,
 "nbformat_minor": 2
}
