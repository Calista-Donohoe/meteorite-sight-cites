{
 "cells": [
  {
   "cell_type": "code",
   "execution_count": 1,
   "metadata": {},
   "outputs": [],
   "source": [
    "#CLEANING UP CHAM 1800 DATASET\n",
    "\n",
    "import pandas as pd\n",
    "import re\n",
    "\n",
    "# Load the dataset\n",
    "file_path = 'cham_api_1800_1963.csv'\n",
    "data = pd.read_csv(file_path)\n",
    "\n",
    "# Convert the 'date' column to a string and extract the year\n",
    "data['date'] = data['date'].astype(str).str[:4]\n",
    "\n",
    "# Remove the 'frequency' column\n",
    "data_simplified = data.drop(columns=['frequency'])\n",
    "\n",
    "# Define a function to extract city and state from the place column\n",
    "def extract_city_state(place):\n",
    "    if pd.isna(place):\n",
    "        return pd.NA, pd.NA  # Handle NaN values\n",
    "    match = re.match(r\"^(.*?)(?:,|\\[)(.*?)(?:\\]|,|$)\", place.strip())\n",
    "    if match:\n",
    "        city = match.group(1).strip()\n",
    "        state = match.group(2).strip()\n",
    "        return city, state\n",
    "    return place, None  # Default case if no match (unlikely but safe to handle)\n",
    "\n",
    "# Apply the function to each row in the 'place' column\n",
    "city_state = data['place'].apply(extract_city_state)\n",
    "data_simplified['City'], data_simplified['State'] = zip(*city_state)\n",
    "\n",
    "# Export the cleaned dataset to a new CSV file\n",
    "data_simplified.to_csv('cleaned_cham_api_1800_1963.csv', index=False)"
   ]
  },
  {
   "cell_type": "code",
   "execution_count": null,
   "metadata": {},
   "outputs": [],
   "source": [
    "# CLEANING THE CHAM 1900 DATASET\n",
    "\n",
    "import pandas as pd\n",
    "import re\n",
    "\n",
    "# Load the dataset\n",
    "file_path = 'cham_api_1900_1963.csv'\n",
    "data = pd.read_csv(file_path)\n",
    "\n",
    "# Convert the 'date' column to a string and extract the year\n",
    "data['date'] = data['date'].astype(str).str[:4]\n",
    "\n",
    "# Remove the 'frequency' column\n",
    "data_simplified = data.drop(columns=['frequency'])\n",
    "\n",
    "# Define a function to extract city and state from the place column\n",
    "def extract_city_state(place):\n",
    "    if pd.isna(place):\n",
    "        return pd.NA, pd.NA  # Handle NaN values\n",
    "    match = re.match(r\"^(.*?)(?:,|\\[)(.*?)(?:\\]|,|$)\", place.strip())\n",
    "    if match:\n",
    "        city = match.group(1).strip()\n",
    "        state = match.group(2).strip()\n",
    "        return city, state\n",
    "    return place, None  # Default case if no match (unlikely but safe to handle)\n",
    "\n",
    "# Apply the function to each row in the 'place' column\n",
    "city_state = data['place'].apply(extract_city_state)\n",
    "data_simplified['City'], data_simplified['State'] = zip(*city_state)\n",
    "\n",
    "# Export the cleaned dataset to a new CSV file\n",
    "data_simplified.to_csv('cleaned_cham_api_1900_1963.csv', index=False)\n"
   ]
  }
 ],
 "metadata": {
  "kernelspec": {
   "display_name": "Python 3",
   "language": "python",
   "name": "python3"
  },
  "language_info": {
   "codemirror_mode": {
    "name": "ipython",
    "version": 3
   },
   "file_extension": ".py",
   "mimetype": "text/x-python",
   "name": "python",
   "nbconvert_exporter": "python",
   "pygments_lexer": "ipython3",
   "version": "3.12.2"
  }
 },
 "nbformat": 4,
 "nbformat_minor": 2
}
