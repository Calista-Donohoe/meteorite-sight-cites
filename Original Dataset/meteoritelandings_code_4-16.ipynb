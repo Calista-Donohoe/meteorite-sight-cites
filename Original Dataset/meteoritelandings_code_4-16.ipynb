{
 "cells": [
  {
   "cell_type": "code",
   "execution_count": 20,
   "metadata": {},
   "outputs": [
    {
     "name": "stdout",
     "output_type": "stream",
     "text": [
      "Cleaned_Meteorite_Landings.csv\n"
     ]
    }
   ],
   "source": [
    "import pandas as pd\n",
    "from geopy.geocoders import Nominatim\n",
    "from geopy.exc import GeocoderTimedOut\n",
    "import time\n",
    "\n",
    "df=pd.read_csv('Meteorite_Landings.csv')\n",
    "\n",
    "# Initial cleanup by removing rows with any missing values\n",
    "clean_df = df.dropna()\n",
    "\n",
    "# Filtering the dataset for meteorites that landed within the year range 1756 to 1963\n",
    "filtered_df = clean_df[(clean_df['year'] >= 1756) & (clean_df['year'] <= 1963)]\n",
    "\n",
    "# Removing the nametype, id. recclass\n",
    "filtered_df_dropped = filtered_df.drop(columns=['nametype', 'id', 'recclass'])\n",
    "\n",
    "# Saving the modified dataset to a new CSV file\n",
    "filtered_df_dropped.to_csv('Cleaned_Meteorite_Landings.csv', index=False)\n",
    "\n",
    "#Filtering by reclat and reclong to only have north america locations\n",
    "north_america_df = filtered_df_dropped[(filtered_df_dropped['reclat'] >= 15) & \n",
    "                                       (filtered_df_dropped['reclat'] <= 60) & \n",
    "                                       (filtered_df_dropped['reclong'] >= -168) & \n",
    "                                       (filtered_df_dropped['reclong'] <= -50)]\n",
    "\n",
    "north_america_df.to_csv('Cleaned_Meteorite_Landings.csv', index=False)\n",
    "\n",
    "print('Cleaned_Meteorite_Landings.csv')\n",
    "\n"
   ]
  },
  {
   "cell_type": "code",
   "execution_count": 21,
   "metadata": {},
   "outputs": [],
   "source": [
    "##test section for first 10 rows\n",
    "# df = pd.read_csv('Cleaned_Meteorite_Landings.csv', nrows=10)\n",
    "# geolocator = Nominatim(user_agent=\"meteorite_locator\")\n",
    "\n",
    "# # using geolocation to match states to the lat/long\n",
    "# def get_state(geolocation):\n",
    "#     # parse GeoLocation column for latitude and longitude\n",
    "#     lat, lon = map(str.strip, geolocation.strip('()').split(','))\n",
    "#     # passes coordinates to geocoder\n",
    "#     location = geolocator.reverse((lat, lon), exactly_one=True)\n",
    "#     if location:\n",
    "#         address = location.raw['address']\n",
    "#         return address.get('state', 'Unknown')\n",
    "#     else:\n",
    "#         return 'Unknown'\n",
    "\n",
    "# # apply to every row\n",
    "# df['State'] = df['GeoLocation'].apply(get_state)\n",
    "\n",
    "# # writes test CSV\n",
    "# df.to_csv('meteorites_with_state_test.csv', index=False)"
   ]
  },
  {
   "cell_type": "code",
   "execution_count": 22,
   "metadata": {},
   "outputs": [],
   "source": [
    "\n",
    "##test section to create state column for entire dataset\n",
    "\n",
    "# df = pd.read_csv('Cleaned_Meteorite_Landings.csv')\n",
    "# geolocator = Nominatim(user_agent=\"meteorite_locator\")\n",
    "\n",
    "# # five second delay between requests bc it kept timing out\n",
    "\n",
    "# time.sleep(5)\n",
    "\n",
    "# def get_state(geolocation):\n",
    "#     lat, lon = map(str.strip, geolocation.strip('()').split(','))\n",
    "#     location = geolocator.reverse((lat, lon), exactly_one=True)\n",
    "#     if location:\n",
    "#         address = location.raw['address']\n",
    "#         return address.get('state', 'Unknown')\n",
    "#     else:\n",
    "#         return 'Unknown'\n",
    "\n",
    "# df['State'] = df['GeoLocation'].apply(get_state)\n",
    "\n",
    "# df.to_csv('meteorites_with_state.csv', index=False)\n"
   ]
  },
  {
   "cell_type": "code",
   "execution_count": 23,
   "metadata": {},
   "outputs": [],
   "source": [
    "\n",
    "#this one writes a column for state and also creates a column for country\n",
    "df = pd.read_csv('Cleaned_Meteorite_Landings.csv')\n",
    "geolocator = Nominatim(user_agent=\"meteorite_locator\")\n",
    "time.sleep(5)\n",
    "\n",
    "def get_state_and_country(geolocation):\n",
    "    try:\n",
    "        lat, lon = map(str.strip, geolocation.strip('()').split(','))\n",
    "        location = geolocator.reverse((lat, lon), exactly_one=True)\n",
    "        if location:\n",
    "            address = location.raw['address']\n",
    "            state = address.get('state', 'Unknown')\n",
    "            country = address.get('country', 'Unknown')\n",
    "            return state, country\n",
    "        else:\n",
    "            return 'Unknown', 'Unknown'\n",
    "    except GeocoderTimedOut:\n",
    "        return 'TimedOut', 'TimedOut'\n",
    "\n",
    "df['State'], df['Country'] = zip(*df['GeoLocation'].apply(get_state_and_country))\n",
    "\n",
    "df.to_csv('meteorites_with_state_and_country.csv', index=False)\n"
   ]
  }
 ],
 "metadata": {
  "kernelspec": {
   "display_name": "Python 3",
   "language": "python",
   "name": "python3"
  },
  "language_info": {
   "codemirror_mode": {
    "name": "ipython",
    "version": 3
   },
   "file_extension": ".py",
   "mimetype": "text/x-python",
   "name": "python",
   "nbconvert_exporter": "python",
   "pygments_lexer": "ipython3",
   "version": "3.12.1"
  }
 },
 "nbformat": 4,
 "nbformat_minor": 2
}
