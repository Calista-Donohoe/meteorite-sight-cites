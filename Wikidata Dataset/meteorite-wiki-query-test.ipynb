{
 "cells": [
  {
   "cell_type": "code",
   "execution_count": 3,
   "metadata": {},
   "outputs": [
    {
     "name": "stdout",
     "output_type": "stream",
     "text": [
      "Data saved to meteorites_wikidata.csv\n"
     ]
    }
   ],
   "source": [
    "import requests\n",
    "import csv\n",
    "\n",
    "def query_wikidata():\n",
    "    #meteorites in United States, Mexico, or Canada\n",
    "    sparql_query = \"\"\"\n",
    "    SELECT ?meteorite ?meteoriteLabel ?discovery_time\n",
    "    WHERE\n",
    "    {\n",
    "        ?meteorite wdt:P31 wd:Q60186;  # instance of meteorite\n",
    "                   wdt:P17 ?country;    # located in country\n",
    "                   wdt:P575 ?discovery_time.  # time of discovery\n",
    "        FILTER (?country IN (wd:Q30, wd:Q96, wd:Q16))  # United States, Mexico, Canada\n",
    "        SERVICE wikibase:label { bd:serviceParam wikibase:language \"[AUTO_LANGUAGE],en\". }\n",
    "    }\n",
    "    \"\"\"\n",
    "\n",
    "    api_url = \"https://query.wikidata.org/sparql\"\n",
    "\n",
    "    response = requests.get(api_url, params={'format': 'json', 'query': sparql_query})\n",
    "\n",
    "    if response.status_code == 200:\n",
    "        return response.json()['results']['bindings']\n",
    "    else:\n",
    "        print(\"Error fetching data from Wikidata:\", response.text)\n",
    "        return None\n",
    "\n",
    "def save_to_csv(data):\n",
    "    csv_file = 'meteorites_wikidata.csv'\n",
    "\n",
    "    # Write to CSV\n",
    "    with open(csv_file, mode='w', newline='', encoding='utf-8') as file:\n",
    "        writer = csv.writer(file)\n",
    "        # header\n",
    "        writer.writerow([\"Meteorite ID\", \"Meteorite Name\", \"Discovery Time\"])\n",
    "        # data rows\n",
    "        for item in data:\n",
    "            meteorite_id = item['meteorite']['value'].split('/')[-1]\n",
    "            meteorite_name = item['meteoriteLabel']['value']\n",
    "            discovery_time = item['discovery_time']['value']\n",
    "            writer.writerow([meteorite_id, meteorite_name, discovery_time])\n",
    "\n",
    "def main():\n",
    "    # Query\n",
    "    result = query_wikidata()\n",
    "    if result:\n",
    "        # CSV\n",
    "        save_to_csv(result)\n",
    "        print(\"Data saved to meteorites_wikidata.csv\")\n",
    "    else:\n",
    "        print(\"Failed to fetch data from Wikidata\")\n",
    "\n",
    "if __name__ == \"__main__\":\n",
    "    main()\n"
   ]
  },
  {
   "cell_type": "code",
   "execution_count": 4,
   "metadata": {},
   "outputs": [
    {
     "name": "stdout",
     "output_type": "stream",
     "text": [
      "GeoJSON data: meteorites_wikidata.geojson\n"
     ]
    }
   ],
   "source": [
    "#geojson component\n",
    "\n",
    "import csv\n",
    "import json\n",
    "\n",
    "def create_geojson(input_file, output_file):\n",
    "    features = []\n",
    "\n",
    "    with open(input_file, 'r', newline='', encoding='utf-8') as csvfile:\n",
    "        reader = csv.DictReader(csvfile)\n",
    "        for row in reader:\n",
    "\n",
    "            meteorite_id = row['Meteorite ID']\n",
    "            meteorite_name = row['Meteorite Name']\n",
    "            country = row['Country']\n",
    "            state = row['State']\n",
    "            year = row['Year']\n",
    "            coordinates = [float(coord) for coord in row['GeoLocation'].split(',')]\n",
    "            \n",
    "            feature = {\n",
    "                \"type\": \"Feature\",\n",
    "                \"properties\": {\n",
    "                    \"Meteorite ID\": meteorite_id,\n",
    "                    \"Meteorite Name\": meteorite_name,\n",
    "                    \"Country\": country,\n",
    "                    \"State\": state,\n",
    "                    \"Year\": year\n",
    "                },\n",
    "                \"geometry\": {\n",
    "                    \"type\": \"Point\",\n",
    "                    \"coordinates\": coordinates\n",
    "                }\n",
    "            }\n",
    "            features.append(feature)\n",
    "\n",
    "    geojson_data = {\n",
    "        \"type\": \"FeatureCollection\",\n",
    "        \"features\": features\n",
    "    }\n",
    "\n",
    "    with open(output_file, 'w') as jsonfile:\n",
    "        json.dump(geojson_data, jsonfile, indent=4)\n",
    "\n",
    "input_file = 'cleaned_meteorites_wikidata.csv'\n",
    "output_file = 'meteorites_wikidata.geojson'\n",
    "\n",
    "create_geojson(input_file, output_file)\n",
    "print(\"GeoJSON data:\", output_file)\n"
   ]
  }
 ],
 "metadata": {
  "kernelspec": {
   "display_name": "Python 3",
   "language": "python",
   "name": "python3"
  },
  "language_info": {
   "codemirror_mode": {
    "name": "ipython",
    "version": 3
   },
   "file_extension": ".py",
   "mimetype": "text/x-python",
   "name": "python",
   "nbconvert_exporter": "python",
   "pygments_lexer": "ipython3",
   "version": "3.12.1"
  }
 },
 "nbformat": 4,
 "nbformat_minor": 2
}
