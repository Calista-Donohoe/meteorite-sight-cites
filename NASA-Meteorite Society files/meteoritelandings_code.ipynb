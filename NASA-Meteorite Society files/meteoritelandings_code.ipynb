{
 "cells": [
  {
   "cell_type": "code",
   "execution_count": 2,
   "metadata": {},
   "outputs": [],
   "source": [
    "import pandas as pd\n",
    "\n",
    "df=pd.read_csv('Meteorite_Landings.csv')\n",
    "\n",
    "# Initial cleanup by removing rows with any missing values\n",
    "clean_df = df.dropna()\n",
    "\n",
    "# Filtering the dataset for meteorites that landed within the year range 1756 to 1963\n",
    "filtered_df = clean_df[(clean_df['year'] >= 1756) & (clean_df['year'] <= 1963)]\n",
    "\n",
    "# Removing the nametype, id. recclass\n",
    "filtered_df_dropped = filtered_df.drop(columns=['nametype', 'id', 'recclass'])\n",
    "\n",
    "# new CSV file\n",
    "filtered_df_dropped.to_csv('Cleaned_Global_Meteorite_Landings.csv', index=False)\n",
    "\n",
    "#Filtering by reclat and reclong to only have north america locations\n",
    "# north_america_df = filtered_df_dropped[(filtered_df_dropped['reclat'] >= 15) & \n",
    "#                                        (filtered_df_dropped['reclat'] <= 60) & \n",
    "#                                        (filtered_df_dropped['reclong'] >= -168) & \n",
    "#                                        (filtered_df_dropped['reclong'] <= -50)]\n",
    "\n"
   ]
  }
 ],
 "metadata": {
  "kernelspec": {
   "display_name": "Python 3",
   "language": "python",
   "name": "python3"
  },
  "language_info": {
   "codemirror_mode": {
    "name": "ipython",
    "version": 3
   },
   "file_extension": ".py",
   "mimetype": "text/x-python",
   "name": "python",
   "nbconvert_exporter": "python",
   "pygments_lexer": "ipython3",
   "version": "3.12.2"
  }
 },
 "nbformat": 4,
 "nbformat_minor": 2
}
