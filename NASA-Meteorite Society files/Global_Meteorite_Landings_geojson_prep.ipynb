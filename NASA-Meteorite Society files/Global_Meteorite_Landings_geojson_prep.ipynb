{
 "cells": [
  {
   "cell_type": "code",
   "execution_count": 13,
   "metadata": {},
   "outputs": [
    {
     "name": "stdout",
     "output_type": "stream",
     "text": [
      "Cleaned_Meteorite_Landings_global.csv\n"
     ]
    }
   ],
   "source": [
    "import pandas as pd\n",
    "\n",
    "df=pd.read_csv('Meteorite_Landings.csv')\n",
    "\n",
    "# Initial cleanup by removing rows with any missing values\n",
    "clean_df = df.dropna()\n",
    "\n",
    "# Removing the nametype, id. recclass\n",
    "clean_df_dropped = clean_df.drop(columns=['nametype', 'id', 'recclass'])\n",
    "\n",
    "# Saving the modified dataset to a new CSV file\n",
    "clean_df_dropped.to_csv('Cleaned_Meteorite_Landings_global.csv', index=False)\n",
    "\n",
    "print('Cleaned_Meteorite_Landings_global.csv')\n",
    "\n"
   ]
  },
  {
   "cell_type": "code",
   "execution_count": 14,
   "metadata": {},
   "outputs": [],
   "source": [
    "import pandas as pd\n",
    "import json\n",
    "\n",
    "def df_to_geojson(csv_file, geojson_file):\n",
    "    # Read the CSV file into a DataFrame\n",
    "    df = pd.read_csv(csv_file)\n",
    "\n",
    "    # Create a list to store GeoJSON features\n",
    "    features = []\n",
    "\n",
    "    # Iterate over each row in the DataFrame\n",
    "    for index, row in df.iterrows():\n",
    "        # Extract relevant fields from the DataFrame row\n",
    "        meteorite_name = row['name']\n",
    "        mass = row['mass (g)']\n",
    "        year = row['year']\n",
    "        latitude = row['reclat']\n",
    "        longitude = row['reclong']\n",
    "\n",
    "        # Check if latitude and longitude values are not empty\n",
    "        if pd.notnull(latitude) and pd.notnull(longitude):\n",
    "            # Create a GeoJSON feature for the meteorite\n",
    "            feature = {\n",
    "                \"type\": \"Feature\",\n",
    "                \"properties\": {\n",
    "                    \"Name\": meteorite_name,\n",
    "                    \"Mass (g)\": mass,\n",
    "                    \"Year\": year,\n",
    "                },\n",
    "                \"geometry\": {\n",
    "                    \"type\": \"Point\",\n",
    "                    \"coordinates\": [longitude, latitude]  # GeoJSON coordinates are in [long,lat] order\n",
    "                }\n",
    "            }\n",
    "            # Add the feature to the list of features\n",
    "            features.append(feature)\n",
    "\n",
    "    # Create a GeoJSON feature collection\n",
    "    feature_collection = {\n",
    "        \"type\": \"FeatureCollection\",\n",
    "        \"features\": features\n",
    "    }\n",
    "\n",
    "    # Write the GeoJSON feature collection to a file\n",
    "    with open(geojson_file, mode='w', encoding='utf-8') as outfile:\n",
    "        json.dump(feature_collection, outfile, indent=2)\n",
    "\n",
    "# Convert cleaned CSV to GeoJSON\n",
    "df_to_geojson('Cleaned_Meteorite_Landings_global.csv', 'Cleaned_Meteorite_Landings_global.geojson')\n"
   ]
  }
 ],
 "metadata": {
  "kernelspec": {
   "display_name": "Python 3",
   "language": "python",
   "name": "python3"
  },
  "language_info": {
   "codemirror_mode": {
    "name": "ipython",
    "version": 3
   },
   "file_extension": ".py",
   "mimetype": "text/x-python",
   "name": "python",
   "nbconvert_exporter": "python",
   "pygments_lexer": "ipython3",
   "version": "3.12.1"
  }
 },
 "nbformat": 4,
 "nbformat_minor": 2
}
