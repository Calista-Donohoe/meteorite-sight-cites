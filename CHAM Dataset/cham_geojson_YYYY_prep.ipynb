{
 "cells": [
  {
   "cell_type": "code",
   "execution_count": 1,
   "metadata": {},
   "outputs": [
    {
     "name": "stderr",
     "output_type": "stream",
     "text": [
      "/var/folders/lq/7w27s5ld7fl2p8px3kczqn6m0000gn/T/ipykernel_40163/2026514625.py:1: DeprecationWarning: \n",
      "Pyarrow will become a required dependency of pandas in the next major release of pandas (pandas 3.0),\n",
      "(to allow more performant data types, such as the Arrow string type, and better interoperability with other libraries)\n",
      "but was not found to be installed on your system.\n",
      "If this would cause problems for you,\n",
      "please provide us feedback at https://github.com/pandas-dev/pandas/issues/54466\n",
      "        \n",
      "  import pandas as pd\n"
     ]
    },
    {
     "name": "stdout",
     "output_type": "stream",
     "text": [
      "New CSV file has been created with latitude and longitude columns.\n"
     ]
    }
   ],
   "source": [
    "import pandas as pd\n",
    "import requests\n",
    "\n",
    "def geocode_city_state(city_state):\n",
    "    url = f\"https://nominatim.openstreetmap.org/search?format=json&q={city_state}\"\n",
    "    response = requests.get(url)\n",
    "    if response.status_code == 200:\n",
    "        data = response.json()\n",
    "        if data:\n",
    "            return data[0]['lat'], data[0]['lon']\n",
    "    return None, None\n",
    "\n",
    "original_csv_file = 'cleaned_cham_api_1900_1963_dates.csv'\n",
    "data = pd.read_csv(original_csv_file)\n",
    "\n",
    "def extract_coordinates(row):\n",
    "    place = row['place']\n",
    "    longitude, latitude = geocode_city_state(place)\n",
    "    return longitude, latitude\n",
    "\n",
    "data['reclong'], data['reclat'] = zip(*data.apply(extract_coordinates, axis=1))\n",
    "\n",
    "new_csv_file = 'cham_geo_dataset_YYYY.csv'\n",
    "data.to_csv(new_csv_file, index=False)\n",
    "\n",
    "print(\"new csv success\")\n"
   ]
  },
  {
   "cell_type": "code",
   "execution_count": 3,
   "metadata": {},
   "outputs": [
    {
     "name": "stdout",
     "output_type": "stream",
     "text": [
      "success\n"
     ]
    }
   ],
   "source": [
    "import pandas as pd\n",
    "import json\n",
    "\n",
    "def csv_to_geojson(csv_file):\n",
    "    data = pd.read_csv(csv_file)\n",
    "    \n",
    "    features = []\n",
    "    for _, row in data.iterrows():\n",
    "        # Check if location coordinates are not NaN\n",
    "        if not pd.isna(row['reclong']) and not pd.isna(row['reclat']):\n",
    "            feature = {\n",
    "                'type': 'Feature',\n",
    "                'properties': {\n",
    "                    'date': row['date'],\n",
    "                    'title': row['title'],\n",
    "                    'id': row['id'],\n",
    "                    'place': row['place'],\n",
    "                },\n",
    "                'geometry': {\n",
    "                    'type': 'Point',\n",
    "                    'coordinates': [row['reclong'], row['reclat']]\n",
    "                }\n",
    "            }\n",
    "            features.append(feature)\n",
    "    \n",
    "    geojson_data = {\n",
    "        'type': 'FeatureCollection',\n",
    "        'features': features\n",
    "    }\n",
    "    \n",
    "    return json.dumps(geojson_data)\n",
    "\n",
    "csv_file = 'cham_geo_dataset_YYYY.csv'\n",
    "geojson = csv_to_geojson(csv_file)\n",
    "\n",
    "output_geojson_file = 'cham_1900_1963_YYYY.geojson'\n",
    "with open(output_geojson_file, 'w') as f:\n",
    "    f.write(geojson)\n",
    "\n",
    "print(\"success\")\n"
   ]
  }
 ],
 "metadata": {
  "kernelspec": {
   "display_name": "Python 3",
   "language": "python",
   "name": "python3"
  },
  "language_info": {
   "codemirror_mode": {
    "name": "ipython",
    "version": 3
   },
   "file_extension": ".py",
   "mimetype": "text/x-python",
   "name": "python",
   "nbconvert_exporter": "python",
   "pygments_lexer": "ipython3",
   "version": "3.12.1"
  }
 },
 "nbformat": 4,
 "nbformat_minor": 2
}
